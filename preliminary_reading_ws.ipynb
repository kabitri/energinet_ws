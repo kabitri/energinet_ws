{
 "cells": [
  {
   "cell_type": "code",
   "execution_count": 1,
   "metadata": {},
   "outputs": [],
   "source": [
    "import numpy as np\n",
    "import pandas as pd\n",
    "import matplotlib.pyplot as plt\n",
    "import csv\n",
    "import math"
   ]
  },
  {
   "cell_type": "code",
   "execution_count": 2,
   "metadata": {},
   "outputs": [
    {
     "name": "stderr",
     "output_type": "stream",
     "text": [
      "C:\\Users\\kacha\\AppData\\Local\\Continuum\\anaconda3\\lib\\site-packages\\ipykernel_launcher.py:2: ParserWarning: Falling back to the 'python' engine because the 'c' engine does not support regex separators (separators > 1 char and different from '\\s+' are interpreted as regex); you can avoid this warning by specifying engine='python'.\n",
      "  \n"
     ]
    },
    {
     "data": {
      "text/plain": [
       "Year                    int64\n",
       "Month                   int64\n",
       "Date                    int64\n",
       "Hr                      int64\n",
       "SpotPurchase_MWhph    float64\n",
       "SpotSell_MWhph        float64\n",
       "SpotPrice_DKK         float64\n",
       "ElbasAv_DKK           float64\n",
       "ElbasMax_DKK          float64\n",
       "ElbasMin_DKK          float64\n",
       "dtype: object"
      ]
     },
     "execution_count": 2,
     "metadata": {},
     "output_type": "execute_result"
    }
   ],
   "source": [
    "file_name = r'D:\\Data\\Energinet.dk\\Whole_Sale_Market\\Nordpool_Elbas_DK1.csv'\n",
    "reader = pd.read_csv(file_name, sep=', ')\n",
    "reader.dtypes"
   ]
  },
  {
   "cell_type": "code",
   "execution_count": 6,
   "metadata": {},
   "outputs": [
    {
     "name": "stdout",
     "output_type": "stream",
     "text": [
      "NaN present in SpotPurchase_MWhph:  False\n",
      "NaN present in SpotSell_MWhph:  False\n",
      "NaN present in SpotPrice_DKK:  False\n",
      "NaN present in ElbasAv_DKK:  True\n",
      "NaN present in ElbasMax_DKK:  True\n",
      "NaN present in ElbasMin_DKK:  True\n"
     ]
    }
   ],
   "source": [
    "# check for NaN values\n",
    "print('NaN present in SpotPurchase_MWhph: ', reader.SpotPurchase_MWhph.isnull().values.any())\n",
    "print('NaN present in SpotSell_MWhph: ', reader.SpotSell_MWhph.isnull().values.any())\n",
    "print('NaN present in SpotPrice_DKK: ', reader.SpotPrice_DKK.isnull().values.any())\n",
    "\n",
    "print('NaN present in ElbasAv_DKK: ', reader.ElbasAv_DKK.isnull().values.any())\n",
    "print('NaN present in ElbasMax_DKK: ', reader.ElbasMax_DKK.isnull().values.any())\n",
    "print('NaN present in ElbasMin_DKK: ', reader.ElbasMin_DKK.isnull().values.any())\n",
    "\n",
    "#reader.ElbasAv_DKK[5:8].isnull().values.any()"
   ]
  },
  {
   "cell_type": "code",
   "execution_count": null,
   "metadata": {},
   "outputs": [],
   "source": []
  }
 ],
 "metadata": {
  "kernelspec": {
   "display_name": "Python 3",
   "language": "python",
   "name": "python3"
  },
  "language_info": {
   "codemirror_mode": {
    "name": "ipython",
    "version": 3
   },
   "file_extension": ".py",
   "mimetype": "text/x-python",
   "name": "python",
   "nbconvert_exporter": "python",
   "pygments_lexer": "ipython3",
   "version": "3.6.4"
  }
 },
 "nbformat": 4,
 "nbformat_minor": 2
}
